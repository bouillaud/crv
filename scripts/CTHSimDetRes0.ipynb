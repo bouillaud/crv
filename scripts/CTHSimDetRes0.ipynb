{
 "cells": [
  {
   "cell_type": "code",
   "execution_count": 2,
   "id": "fdb8dd46",
   "metadata": {},
   "outputs": [],
   "source": [
    "import math\n",
    "import numpy as np\n",
    "import sys\n",
    "import os\n",
    "import uproot\n",
    "import matplotlib\n",
    "import matplotlib.pyplot as plt\n",
    "from matplotlib.colors import TwoSlopeNorm\n",
    "from scipy import stats, optimize\n",
    "import pylandau\n",
    "from pathlib import Path"
   ]
  },
  {
   "cell_type": "code",
   "execution_count": 3,
   "id": "ac93bebb",
   "metadata": {},
   "outputs": [],
   "source": [
    "# from funs import *\n",
    "\n",
    "plt.rcParams[\"font.size\"]=10\n",
    "plt.rcParams[\"axes.labelsize\"]=12\n",
    "plt.rcParams[\"figure.dpi\"]=200\n",
    "plt.rcParams['figure.figsize'] = [6, 4]"
   ]
  },
  {
   "cell_type": "code",
   "execution_count": 4,
   "id": "ccd7318e",
   "metadata": {},
   "outputs": [],
   "source": [
    "%%capture\n",
    "\n",
    "matplotlib.rcParams['mathtext.fontset'] = 'custom'\n",
    "matplotlib.rcParams['mathtext.rm'] = 'Bitstream Vera Sans'\n",
    "matplotlib.rcParams['mathtext.it'] = 'Bitstream Vera Sans:italic'\n",
    "matplotlib.rcParams['mathtext.bf'] = 'Bitstream Vera Sans:bold'\n",
    "matplotlib.pyplot.title(r'ABC123 vs $\\mathrm{ABC123}^{123}$')\n",
    "\n",
    "matplotlib.rcParams['mathtext.fontset'] = 'stix'\n",
    "matplotlib.rcParams['font.family'] = 'STIXGeneral'\n",
    "matplotlib.pyplot.title(r'ABC123 vs $\\mathrm{ABC123}^{123}$')\n"
   ]
  },
  {
   "cell_type": "code",
   "execution_count": 6,
   "id": "62824676",
   "metadata": {},
   "outputs": [],
   "source": [
    "### get data ###\n",
    "\n",
    "inFileName = \"../Root_outputs/CTHdetres_output0.root\"\n",
    "outFileName = \"{}.txt\".format(Path(inFileName).stem)\n",
    "file = uproot.open(inFileName)\n",
    "\n",
    "tree = file['COMETEvents']\n",
    "# tree_arr = tree.arrays()"
   ]
  },
  {
   "cell_type": "code",
   "execution_count": null,
   "id": "4dea9e24",
   "metadata": {},
   "outputs": [],
   "source": [
    "### get data ###\n",
    "\n",
    "inFileName = \"../Root_outputs/d2r0.root\"\n",
    "outFileName = \"{}.txt\".format(Path(inFileName).stem)\n",
    "file = uproot.open(inFileName)\n",
    "\n",
    "tree = file['RECBE;2']\n",
    "tree_arr = tree.arrays()"
   ]
  },
  {
   "cell_type": "code",
   "execution_count": 31,
   "id": "f9119f06",
   "metadata": {},
   "outputs": [
    {
     "data": {
      "text/plain": [
       "['RECBE;2', 'RECBE;1', 'COMETEvents;1']"
      ]
     },
     "execution_count": 31,
     "metadata": {},
     "output_type": "execute_result"
    }
   ],
   "source": [
    "file.keys()"
   ]
  },
  {
   "cell_type": "code",
   "execution_count": 34,
   "id": "a60db9d1",
   "metadata": {},
   "outputs": [
    {
     "data": {
      "text/plain": [
       "['triggerTime', 'q', 'tdcNhit', 'adc', 'tdcDiff', 'cot']"
      ]
     },
     "execution_count": 34,
     "metadata": {},
     "output_type": "execute_result"
    }
   ],
   "source": [
    "file['RECBE;2'].keys()"
   ]
  },
  {
   "cell_type": "code",
   "execution_count": 36,
   "id": "7bc5c3b3",
   "metadata": {},
   "outputs": [],
   "source": [
    "### get data ###\n",
    "\n",
    "inFileName = \"../Root_outputs/CTHdetres_ana10.root\"\n",
    "outFileName = \"{}.txt\".format(Path(inFileName).stem)\n",
    "file = uproot.open(inFileName)\n",
    "\n",
    "file.keys()\n",
    "tree = file['mc;4']\n",
    "tree_arr = tree.arrays()"
   ]
  },
  {
   "cell_type": "code",
   "execution_count": 37,
   "id": "b955a042",
   "metadata": {},
   "outputs": [
    {
     "data": {
      "text/html": [
       "<pre>[{eventId: 0, cth_nHits: 124051, cth_segId: [61, ..., 28], cth_hodId: ..., ...},\n",
       " {eventId: 0, cth_nHits: 123740, cth_segId: [8, 9, ..., 11], ...},\n",
       " {eventId: 0, cth_nHits: 122691, cth_segId: [21, ..., 47], cth_hodId: ..., ...},\n",
       " {eventId: 0, cth_nHits: 123304, cth_segId: [16, ..., 9], cth_hodId: ..., ...},\n",
       " {eventId: 0, cth_nHits: 123204, cth_segId: [2, 2, ..., 43], ...},\n",
       " {eventId: 0, cth_nHits: 122560, cth_segId: [46, ..., 26], cth_hodId: ..., ...},\n",
       " {eventId: 0, cth_nHits: 122649, cth_segId: [36, ..., 37], cth_hodId: ..., ...},\n",
       " {eventId: 0, cth_nHits: 123119, cth_segId: [10, ..., 22], cth_hodId: ..., ...},\n",
       " {eventId: 0, cth_nHits: 122811, cth_segId: [41, ..., 39], cth_hodId: ..., ...},\n",
       " {eventId: 0, cth_nHits: 123186, cth_segId: [44, ..., 24], cth_hodId: ..., ...}]\n",
       "--------------------------------------------------------------------------------\n",
       "type: 10 * {\n",
       "    eventId: int32,\n",
       "    cth_nHits: int32,\n",
       "    cth_segId: var * int32,\n",
       "    cth_hodId: var * int32,\n",
       "    cth_cryType: var * int32,\n",
       "    cth_pdgId: var * int32,\n",
       "    cth_trackId: var * int32,\n",
       "    cth_stepL: var * float64,\n",
       "    cth_edep: var * float64,\n",
       "    cth_beta: var * float64,\n",
       "    cth_trig: var * int32,\n",
       "    cth_t: var * float64,\n",
       "    cth_px: var * float64,\n",
       "    cth_py: var * float64,\n",
       "    cth_pz: var * float64,\n",
       "    cth_x: var * float64,\n",
       "    cth_y: var * float64,\n",
       "    cth_z: var * float64,\n",
       "    cthmc_nHits: int32,\n",
       "    cthmc_nCon: var * int32,\n",
       "    cthmc_segId: var * int32,\n",
       "    cthmc_hodId: var * int32,\n",
       "    cthmc_cryType: var * int32,\n",
       "    cthmc_pdgId: var * int32,\n",
       "    cthmc_trackId: var * int32,\n",
       "    cthmc_chargeP: var * float64,\n",
       "    cthmc_chargeS: var * float64,\n",
       "    cthmc_stepL: var * float64,\n",
       "    cthmc_edep: var * float64,\n",
       "    cthmc_beta: var * float64,\n",
       "    cthmc_trig: var * int32,\n",
       "    cthmc_tT: var * float64,\n",
       "    cthmc_tP: var * float64,\n",
       "    cthmc_px: var * float64,\n",
       "    cthmc_py: var * float64,\n",
       "    cthmc_pz: var * float64,\n",
       "    cthmc_x: var * float64,\n",
       "    cthmc_y: var * float64,\n",
       "    cthmc_z: var * float64,\n",
       "    cthTrig_nHits: int32,\n",
       "    cthTrig_segId: var * int32,\n",
       "    cthTrig_hodId: var * int32,\n",
       "    cthTrig_cryType: var * int32,\n",
       "    cthTrig_t: var * int32,\n",
       "    cthTrig_ADC: var * int32\n",
       "}</pre>"
      ],
      "text/plain": [
       "<Array [{eventId: 0, cth_nHits: ..., ...}, ...] type='10 * {eventId: int32,...'>"
      ]
     },
     "execution_count": 37,
     "metadata": {},
     "output_type": "execute_result"
    }
   ],
   "source": [
    "tree_arr"
   ]
  },
  {
   "cell_type": "code",
   "execution_count": null,
   "id": "5b4a4c99",
   "metadata": {},
   "outputs": [],
   "source": []
  }
 ],
 "metadata": {
  "kernelspec": {
   "display_name": "PyTom",
   "language": "python",
   "name": "python3"
  },
  "language_info": {
   "codemirror_mode": {
    "name": "ipython",
    "version": 3
   },
   "file_extension": ".py",
   "mimetype": "text/x-python",
   "name": "python",
   "nbconvert_exporter": "python",
   "pygments_lexer": "ipython3",
   "version": "3.12.2"
  }
 },
 "nbformat": 4,
 "nbformat_minor": 5
}
